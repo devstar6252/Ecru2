{
  "cells": [
    {
      "cell_type": "code",
      "source": [
        "import numpy as np\n",
        "import pandas as pd\n",
        "import matplotlib.pyplot as plt\n",
        "import seaborn as sns"
      ],
      "metadata": {
        "id": "2TyMNIMO6S-2",
        "executionInfo": {
          "status": "ok",
          "timestamp": 1710769691921,
          "user_tz": -330,
          "elapsed": 673,
          "user": {
            "displayName": "",
            "userId": ""
          }
        }
      },
      "id": "2TyMNIMO6S-2",
      "execution_count": 85,
      "outputs": []
    },
    {
      "cell_type": "code",
      "source": [
        "!pip install textract"
      ],
      "metadata": {
        "colab": {
          "base_uri": "https://localhost:8080/"
        },
        "id": "DUg1_Ch1u0OA",
        "executionInfo": {
          "status": "ok",
          "timestamp": 1710769699130,
          "user_tz": -330,
          "elapsed": 6532,
          "user": {
            "displayName": "",
            "userId": ""
          }
        },
        "outputId": "ec963b1b-1cbe-4e8f-a4d7-cd76b491a4d2"
      },
      "id": "DUg1_Ch1u0OA",
      "execution_count": 86,
      "outputs": [
        {
          "output_type": "stream",
          "name": "stdout",
          "text": [
            "Requirement already satisfied: textract in /usr/local/lib/python3.10/dist-packages (1.6.5)\n",
            "Requirement already satisfied: argcomplete~=1.10.0 in /usr/local/lib/python3.10/dist-packages (from textract) (1.10.3)\n",
            "Requirement already satisfied: beautifulsoup4~=4.8.0 in /usr/local/lib/python3.10/dist-packages (from textract) (4.8.2)\n",
            "Requirement already satisfied: chardet==3.* in /usr/local/lib/python3.10/dist-packages (from textract) (3.0.4)\n",
            "Requirement already satisfied: docx2txt~=0.8 in /usr/local/lib/python3.10/dist-packages (from textract) (0.8)\n",
            "Requirement already satisfied: extract-msg<=0.29.* in /usr/local/lib/python3.10/dist-packages (from textract) (0.28.7)\n",
            "Requirement already satisfied: pdfminer.six==20191110 in /usr/local/lib/python3.10/dist-packages (from textract) (20191110)\n",
            "Requirement already satisfied: python-pptx~=0.6.18 in /usr/local/lib/python3.10/dist-packages (from textract) (0.6.23)\n",
            "Requirement already satisfied: six~=1.12.0 in /usr/local/lib/python3.10/dist-packages (from textract) (1.12.0)\n",
            "Requirement already satisfied: SpeechRecognition~=3.8.1 in /usr/local/lib/python3.10/dist-packages (from textract) (3.8.1)\n",
            "Requirement already satisfied: xlrd~=1.2.0 in /usr/local/lib/python3.10/dist-packages (from textract) (1.2.0)\n",
            "Requirement already satisfied: pycryptodome in /usr/local/lib/python3.10/dist-packages (from pdfminer.six==20191110->textract) (3.20.0)\n",
            "Requirement already satisfied: sortedcontainers in /usr/local/lib/python3.10/dist-packages (from pdfminer.six==20191110->textract) (2.4.0)\n",
            "Requirement already satisfied: soupsieve>=1.2 in /usr/local/lib/python3.10/dist-packages (from beautifulsoup4~=4.8.0->textract) (2.5)\n",
            "Requirement already satisfied: imapclient==2.1.0 in /usr/local/lib/python3.10/dist-packages (from extract-msg<=0.29.*->textract) (2.1.0)\n",
            "Requirement already satisfied: olefile>=0.46 in /usr/local/lib/python3.10/dist-packages (from extract-msg<=0.29.*->textract) (0.47)\n",
            "Requirement already satisfied: tzlocal>=2.1 in /usr/local/lib/python3.10/dist-packages (from extract-msg<=0.29.*->textract) (5.2)\n",
            "Requirement already satisfied: compressed-rtf>=1.0.6 in /usr/local/lib/python3.10/dist-packages (from extract-msg<=0.29.*->textract) (1.0.6)\n",
            "Requirement already satisfied: ebcdic>=1.1.1 in /usr/local/lib/python3.10/dist-packages (from extract-msg<=0.29.*->textract) (1.1.1)\n",
            "Requirement already satisfied: lxml>=3.1.0 in /usr/local/lib/python3.10/dist-packages (from python-pptx~=0.6.18->textract) (4.9.4)\n",
            "Requirement already satisfied: Pillow>=3.3.2 in /usr/local/lib/python3.10/dist-packages (from python-pptx~=0.6.18->textract) (9.4.0)\n",
            "Requirement already satisfied: XlsxWriter>=0.5.7 in /usr/local/lib/python3.10/dist-packages (from python-pptx~=0.6.18->textract) (3.2.0)\n"
          ]
        }
      ]
    },
    {
      "cell_type": "code",
      "source": [
        "from gensim.models import Word2Vec\n",
        "import string\n",
        "import re\n",
        "import os\n",
        "import collections\n",
        "from os import listdir\n",
        "from os.path import isfile, join\n",
        "from joblib import dump, load\n",
        "import pickle\n",
        "from io import StringIO\n",
        "import pandas as pd\n",
        "from collections import Counter\n",
        "import en_core_web_sm\n",
        "nlp = en_core_web_sm.load()\n",
        "from spacy.matcher import PhraseMatcher\n",
        "from itertools import chain\n",
        "import textract\n",
        "from gensim.models import Word2Vec\n",
        "import string\n",
        "import re\n",
        "from nltk.corpus import stopwords\n",
        "from nltk.tokenize import word_tokenize\n",
        "import gensim\n",
        "from gensim.models.phrases import Phraser, Phrases\n",
        "import nltk\n",
        "import collections\n",
        "import re\n",
        "import numpy as np\n",
        "from sklearn.metrics.pairwise import cosine_similarity\n",
        "from sklearn.feature_extraction.text import CountVectorizer\n",
        "nltk.download('punkt')\n",
        "nltk.download('stopwords')"
      ],
      "metadata": {
        "colab": {
          "base_uri": "https://localhost:8080/"
        },
        "id": "YE6KOdSN60kn",
        "executionInfo": {
          "status": "ok",
          "timestamp": 1710769699803,
          "user_tz": -330,
          "elapsed": 688,
          "user": {
            "displayName": "",
            "userId": ""
          }
        },
        "outputId": "4608ba31-e79f-4177-8f6e-b344455685ae"
      },
      "id": "YE6KOdSN60kn",
      "execution_count": 87,
      "outputs": [
        {
          "output_type": "stream",
          "name": "stderr",
          "text": [
            "[nltk_data] Downloading package punkt to /root/nltk_data...\n",
            "[nltk_data]   Package punkt is already up-to-date!\n",
            "[nltk_data] Downloading package stopwords to /root/nltk_data...\n",
            "[nltk_data]   Package stopwords is already up-to-date!\n"
          ]
        },
        {
          "output_type": "execute_result",
          "data": {
            "text/plain": [
              "True"
            ]
          },
          "metadata": {},
          "execution_count": 87
        }
      ]
    },
    {
      "cell_type": "code",
      "source": [
        "def cleanResume(resumeText):\n",
        "    resumeText = re.sub('http\\S+\\s*', ' ', resumeText)\n",
        "    resumeText = re.sub('RT|cc', ' ', resumeText)\n",
        "    resumeText = re.sub('#\\S+', '', resumeText)\n",
        "    resumeText = re.sub('@\\S+', '  ', resumeText)\n",
        "    resumeText = re.sub('[%s]' % re.escape(\"\"\"!\"#$%&'()*+,-./:;<=>?@[\\]^_`{|}~\"\"\"), ' ', resumeText)\n",
        "    resumeText = re.sub(r'[^\\x00-\\x7f]',r' ', resumeText)\n",
        "    resumeText = re.sub('\\s+', ' ', resumeText)\n",
        "    return resumeText"
      ],
      "metadata": {
        "id": "Izmg7Xgt7H8m",
        "executionInfo": {
          "status": "ok",
          "timestamp": 1710769699803,
          "user_tz": -330,
          "elapsed": 7,
          "user": {
            "displayName": "",
            "userId": ""
          }
        }
      },
      "id": "Izmg7Xgt7H8m",
      "execution_count": 88,
      "outputs": []
    },
    {
      "cell_type": "code",
      "source": [
        "def Preprocessfile(filename):\n",
        "  text = textract.process(filename)\n",
        "  text= text.decode('utf-8').replace(\"\\n\", \" \")\n",
        "  # print(text)\n",
        "  x=[]\n",
        "  tokens=word_tokenize(text)\n",
        "  tok=[w.lower() for w in tokens]\n",
        "  table=str.maketrans('','',string.punctuation)\n",
        "  strpp=[w.translate(table) for w in tok]\n",
        "  words=[word for word in strpp if word.isalpha()]\n",
        "  stop_words=set(stopwords.words('english'))\n",
        "  words=[w for w in words if not w in stop_words]\n",
        "  x.append(words)\n",
        "  # print(x)\n",
        "  res=\" \".join(chain.from_iterable(x))\n",
        "  return res"
      ],
      "metadata": {
        "id": "mZhhVAyJ7PnE",
        "executionInfo": {
          "status": "ok",
          "timestamp": 1710769699803,
          "user_tz": -330,
          "elapsed": 7,
          "user": {
            "displayName": "",
            "userId": ""
          }
        }
      },
      "id": "mZhhVAyJ7PnE",
      "execution_count": 89,
      "outputs": []
    },
    {
      "cell_type": "code",
      "source": [
        "def calculate_score(text):\n",
        "  #print the similarity score\n",
        "  # print(\"\\n Similarity Score: \")\n",
        "  cv = CountVectorizer()\n",
        "  count_matrix = cv.fit_transform(text)\n",
        "  # print(cosine_similarity(count_matrix))\n",
        "  matchpercent = cosine_similarity(count_matrix)[0][1]*100\n",
        "  return round(matchpercent,2)\n",
        "\n",
        "def print_score(text):\n",
        "  print(\"Your Resume matches about \" + str(calculate_score(text)) + \"% of the job\")"
      ],
      "metadata": {
        "id": "Y0DgLbyX7R9O",
        "executionInfo": {
          "status": "ok",
          "timestamp": 1710769699804,
          "user_tz": -330,
          "elapsed": 7,
          "user": {
            "displayName": "",
            "userId": ""
          }
        }
      },
      "id": "Y0DgLbyX7R9O",
      "execution_count": 90,
      "outputs": []
    },
    {
      "cell_type": "markdown",
      "source": [
        "#JD file"
      ],
      "metadata": {
        "id": "8cgKWPGURv1U"
      },
      "id": "8cgKWPGURv1U"
    },
    {
      "cell_type": "code",
      "source": [
        "import os\n",
        "\n",
        "# Check if the file exists\n",
        "file_path = \"jd.txt\"\n",
        "if os.path.exists(file_path):\n",
        "    # If the file exists, delete it\n",
        "    os.remove(file_path)\n",
        "\n",
        "# Create the file again\n",
        "with open(file_path, 'w') as file:\n",
        "    file.write(\"This is the new content of jd.txt\\n\")\n",
        "\n",
        "x=Preprocessfile('jd.txt')"
      ],
      "metadata": {
        "id": "kKhNARkPvrmE",
        "executionInfo": {
          "status": "ok",
          "timestamp": 1710769699804,
          "user_tz": -330,
          "elapsed": 7,
          "user": {
            "displayName": "",
            "userId": ""
          }
        }
      },
      "id": "kKhNARkPvrmE",
      "execution_count": 91,
      "outputs": []
    },
    {
      "cell_type": "code",
      "source": [
        "# import os\n",
        "\n",
        "# # Define the directory containing the PDF files\n",
        "# directory = 'testing/'\n",
        "\n",
        "# # Initialize a list to store filenames and their corresponding scores\n",
        "# files_scores = []\n",
        "\n",
        "# # Iterate over each file in the directory\n",
        "# for filename in os.listdir(directory):\n",
        "#     if filename.endswith('.pdf'):\n",
        "#         filepath = os.path.join(directory, filename)\n",
        "\n",
        "#         # Preprocess the current PDF file\n",
        "#         y = Preprocessfile(filepath)\n",
        "\n",
        "#         # Assuming 'x' is defined elsewhere or loaded from somewhere\n",
        "#         text = [y, x]\n",
        "\n",
        "#         # Compute the score for the current PDF file\n",
        "#         score = calculate_score(text)  # Assuming compute_score function is defined\n",
        "\n",
        "#         # Append filename and score as a tuple to the list\n",
        "#         files_scores.append((filename, score))\n",
        "\n",
        "# # Sort the list based on the scores in decreasing order\n",
        "# files_scores.sort(key=lambda x: x[1], reverse=True)\n",
        "\n",
        "# # Print filenames and scores in decreasing order\n",
        "# for filename, score in files_scores:\n",
        "#     print(f\"Filename: {filename}, Score: {score}\")\n"
      ],
      "metadata": {
        "id": "GNa48VtDDBoE",
        "executionInfo": {
          "status": "ok",
          "timestamp": 1710769699804,
          "user_tz": -330,
          "elapsed": 7,
          "user": {
            "displayName": "",
            "userId": ""
          }
        }
      },
      "id": "GNa48VtDDBoE",
      "execution_count": 92,
      "outputs": []
    },
    {
      "cell_type": "markdown",
      "source": [
        "#deleting speific folder"
      ],
      "metadata": {
        "id": "TijnlpD7LGfn"
      },
      "id": "TijnlpD7LGfn"
    },
    {
      "cell_type": "code",
      "source": [
        "import os\n",
        "import shutil\n",
        "\n",
        "def delete_folder(folder_path):\n",
        "    \"\"\"\n",
        "    Delete a folder if it exists.\n",
        "\n",
        "    Parameters:\n",
        "        folder_path (str): Path to the folder to be deleted.\n",
        "    \"\"\"\n",
        "    if os.path.exists(folder_path):\n",
        "        shutil.rmtree(folder_path)\n",
        "        print(f\"Folder '{folder_path}' deleted successfully.\")\n",
        "    else:\n",
        "        print(f\"Folder '{folder_path}' does not exist.\")\n",
        "\n",
        "# Example usage:\n",
        "# folder_to_delete = 'all_bucket_files'\n",
        "\n",
        "# delete_folder(folder_to_delete)\n"
      ],
      "metadata": {
        "id": "T8TrG0ctKSzD",
        "executionInfo": {
          "status": "ok",
          "timestamp": 1710769699804,
          "user_tz": -330,
          "elapsed": 6,
          "user": {
            "displayName": "",
            "userId": ""
          }
        }
      },
      "id": "T8TrG0ctKSzD",
      "execution_count": 93,
      "outputs": []
    },
    {
      "cell_type": "code",
      "source": [
        "from google.cloud import storage\n",
        "import os\n",
        "\n",
        "def download_bucket_files2(bucket_name, folder_name, output_folder):\n",
        "    \"\"\"\n",
        "    Download PDF and DOCX files from a specified folder in a Google Cloud Storage bucket into a specified folder.\n",
        "\n",
        "    Parameters:\n",
        "        bucket_name (str): Name of the Google Cloud Storage bucket.\n",
        "        folder_name (str): Name of the folder within the bucket from which files will be downloaded.\n",
        "        output_folder (str): Path to the folder where files will be downloaded.\n",
        "    \"\"\"\n",
        "    # Create a client to interact with the GCS API\n",
        "    client = storage.Client()\n",
        "\n",
        "    # Get the bucket\n",
        "    bucket = client.get_bucket(bucket_name)\n",
        "\n",
        "    # List all blobs (files) in the specified folder\n",
        "    blobs = bucket.list_blobs(prefix=folder_name)\n",
        "\n",
        "    # Create the output folder if it doesn't exist\n",
        "    os.makedirs(output_folder, exist_ok=True)\n",
        "\n",
        "    # Download PDF, DOCX, and DOC files to the specified folder\n",
        "    for blob in blobs:\n",
        "        # Ensure that the blob represents a file (not a subfolder)\n",
        "        if blob.name.endswith('.pdf') or blob.name.endswith('.docx') or blob.name.endswith('.doc'):\n",
        "            # Construct the file path\n",
        "            relative_path = os.path.relpath(blob.name, folder_name)\n",
        "            file_path = os.path.join(output_folder, relative_path)\n",
        "\n",
        "            # Download the file to local storage\n",
        "            blob.download_to_filename(file_path)\n",
        "            print(f\"File '{file_path}' downloaded from folder '{folder_name}' in bucket '{bucket_name}'\")\n",
        "\n",
        "# Example usage\n",
        "# bucket_name = \"hackathon1415\"\n",
        "# folder_name = \"RESUME/data\"\n",
        "# output_folder = \"path_to_output_folder\"\n",
        "\n",
        "# delete_folder('path_to_output_folder')\n",
        "# download_bucket_files(bucket_name, folder_name, output_folder)\n"
      ],
      "metadata": {
        "id": "_TOZnNoUvCI9",
        "executionInfo": {
          "status": "ok",
          "timestamp": 1710769699804,
          "user_tz": -330,
          "elapsed": 6,
          "user": {
            "displayName": "",
            "userId": ""
          }
        }
      },
      "id": "_TOZnNoUvCI9",
      "execution_count": 94,
      "outputs": []
    },
    {
      "cell_type": "code",
      "source": [
        "from google.colab import auth\n",
        "from google.cloud import storage\n",
        "import os\n",
        "\n",
        "def download_bucket_files(bucket_name, output_folder):\n",
        "\n",
        "    # Authenticate with your Google Cloud account\n",
        "    auth.authenticate_user()\n",
        "\n",
        "    # Create a client to interact with the GCS API\n",
        "    client = storage.Client()\n",
        "\n",
        "    # Get the bucket\n",
        "    bucket = client.get_bucket(bucket_name)\n",
        "\n",
        "    # List all blobs (files) in the bucket\n",
        "    blobs = bucket.list_blobs()\n",
        "\n",
        "    # Create the output folder if it doesn't exist\n",
        "    os.makedirs(output_folder, exist_ok=True)\n",
        "\n",
        "    # Download PDF and DOCX files to the specified folder\n",
        "    for blob in blobs:\n",
        "        if blob.name.endswith('.pdf') or blob.name.endswith('.docx') or blob.name.endswith('.doc'):\n",
        "            # Construct the file path\n",
        "            file_path = os.path.join(output_folder, os.path.basename(blob.name))\n",
        "            # Download the file to local storage\n",
        "            blob.download_to_filename(file_path)\n",
        "            print(f\"File '{file_path}' downloaded from bucket '{bucket_name}'\")\n",
        "\n",
        "# Example usage:\n",
        "# bucket_name = 'hackathontestdata2024'\n",
        "# output_folder = 'pdf_docx_files'\n",
        "\n",
        "# download_bucket_files(bucket_name, output_folder)\n"
      ],
      "metadata": {
        "id": "qGv3f27kGvAD",
        "executionInfo": {
          "status": "ok",
          "timestamp": 1710769699804,
          "user_tz": -330,
          "elapsed": 6,
          "user": {
            "displayName": "",
            "userId": ""
          }
        }
      },
      "id": "qGv3f27kGvAD",
      "execution_count": 95,
      "outputs": []
    },
    {
      "cell_type": "markdown",
      "source": [
        "#Downloading resumes"
      ],
      "metadata": {
        "id": "dHvT2vzfJ963"
      },
      "id": "dHvT2vzfJ963"
    },
    {
      "cell_type": "code",
      "source": [
        "# bucket_name = 'hackathontestdata2024'\n",
        "# output_folder = 'all_bucket_files'\n",
        "# download_bucket_files(bucket_name, output_folder)"
      ],
      "metadata": {
        "id": "9Vpkf1UuJHDB",
        "executionInfo": {
          "status": "ok",
          "timestamp": 1710769699804,
          "user_tz": -330,
          "elapsed": 6,
          "user": {
            "displayName": "",
            "userId": ""
          }
        }
      },
      "id": "9Vpkf1UuJHDB",
      "execution_count": 96,
      "outputs": []
    },
    {
      "cell_type": "markdown",
      "source": [
        "#function to get n no of resumes with their matching values"
      ],
      "metadata": {
        "id": "O0n4SMZnVxcJ"
      },
      "id": "O0n4SMZnVxcJ"
    },
    {
      "cell_type": "code",
      "source": [
        "import os\n",
        "\n",
        "def process_files_in_directory(directory, n):# n is no of best resumes we want\n",
        "    # Initialize a list to store filenames and their corresponding scores\n",
        "    files_scores = []\n",
        "\n",
        "    # Iterate over each file in the directory\n",
        "    for filename in os.listdir(directory):\n",
        "        if filename.endswith(('.pdf', '.docx', '.doc')):\n",
        "            filepath = os.path.join(directory, filename)\n",
        "\n",
        "            # Preprocess the current PDF file\n",
        "            y = Preprocessfile(filepath)\n",
        "\n",
        "            # Assuming 'x' is defined elsewhere or loaded from somewhere\n",
        "            text = [y, x]\n",
        "\n",
        "            # Compute the score for the current PDF file\n",
        "            score = calculate_score(text)  # Assuming compute_score function is defined\n",
        "\n",
        "            # Append filename and score as a tuple to the list\n",
        "            files_scores.append((filename, round((score), 2)))\n",
        "\n",
        "    # Sort the list based on the scores in decreasing order\n",
        "    files_scores.sort(key=lambda x: x[1], reverse=True)\n",
        "\n",
        "    files_scores=files_scores[:n]\n",
        "\n",
        "    converted_data = []\n",
        "\n",
        "    # Counter for id\n",
        "    id_counter = 1\n",
        "    for item in files_scores:\n",
        "        converted_item = {\n",
        "            \"id\": id_counter,\n",
        "            \"score\": item[1],\n",
        "            \"path\": item[0]\n",
        "        }\n",
        "        converted_data.append(converted_item)\n",
        "        id_counter += 1\n",
        "\n",
        "\n",
        "    return converted_data\n",
        "\n",
        "# Example usage:"
      ],
      "metadata": {
        "id": "Sei2yJbpQ8jA",
        "executionInfo": {
          "status": "ok",
          "timestamp": 1710769700475,
          "user_tz": -330,
          "elapsed": 677,
          "user": {
            "displayName": "",
            "userId": ""
          }
        }
      },
      "id": "Sei2yJbpQ8jA",
      "execution_count": 97,
      "outputs": []
    },
    {
      "cell_type": "markdown",
      "source": [
        "#Example usage\n"
      ],
      "metadata": {
        "id": "JpRQz0UpToUQ"
      },
      "id": "JpRQz0UpToUQ"
    },
    {
      "cell_type": "code",
      "source": [
        "# # Example usage:\n",
        "# directory = 'all_bucket_files'\n",
        "# sorted_files_scores = process_files_in_directory(directory, 3)\n",
        "# print(sorted_files_scores)"
      ],
      "metadata": {
        "id": "L036540aSSu4",
        "executionInfo": {
          "status": "ok",
          "timestamp": 1710769700475,
          "user_tz": -330,
          "elapsed": 15,
          "user": {
            "displayName": "",
            "userId": ""
          }
        }
      },
      "id": "L036540aSSu4",
      "execution_count": 98,
      "outputs": []
    },
    {
      "cell_type": "code",
      "source": [
        "# delete_folder('all_bucket_files')"
      ],
      "metadata": {
        "id": "KQv7TrVCTnsC",
        "executionInfo": {
          "status": "ok",
          "timestamp": 1710769700475,
          "user_tz": -330,
          "elapsed": 15,
          "user": {
            "displayName": "",
            "userId": ""
          }
        }
      },
      "id": "KQv7TrVCTnsC",
      "execution_count": 99,
      "outputs": []
    },
    {
      "cell_type": "code",
      "source": [
        "#function to check if file is presennt, if yes then it will deleted\n",
        "\n",
        "import os\n",
        "\n",
        "def check_and_create_file(file_name, text_to_write):\n",
        "    # Check if the file exists\n",
        "    if os.path.exists(file_name):\n",
        "        # If the file exists, delete it\n",
        "        os.remove(file_name)\n",
        "        print(f\"File '{file_name}' exists and has been deleted.\")\n",
        "\n",
        "    # Create a new file\n",
        "    with open(file_name, 'w') as f:\n",
        "        f.write(\"\"+text_to_write)\n",
        "\n",
        "    print(f\"File '{file_name}' has been created.\")\n",
        "\n",
        "# Usage\n",
        "# file_name = \"example.txt\"\n",
        "# check_and_create_file(file_name, 'hi hello')\n"
      ],
      "metadata": {
        "id": "ucc8hylvQ9DK",
        "executionInfo": {
          "status": "ok",
          "timestamp": 1710769700475,
          "user_tz": -330,
          "elapsed": 14,
          "user": {
            "displayName": "",
            "userId": ""
          }
        }
      },
      "id": "ucc8hylvQ9DK",
      "execution_count": 100,
      "outputs": []
    },
    {
      "cell_type": "code",
      "source": [
        "import os\n",
        "\n",
        "def check_and_create_folder(folder_name):\n",
        "    # Check if the folder exists\n",
        "    if os.path.exists(folder_name):\n",
        "        # If the folder exists, delete it\n",
        "        os.rmdir(folder_name)\n",
        "        # print(f\"Folder '{folder_name}' exists and has been deleted.\")\n",
        "\n",
        "    # Create a new folder\n",
        "    os.mkdir(folder_name)\n",
        "    # print(f\"Folder '{folder_name}' has been created.\")\n",
        "\n",
        "# Usage example\n",
        "# check_and_create_folder(\"example_folder\")\n"
      ],
      "metadata": {
        "id": "8iAx52TnwqxF",
        "executionInfo": {
          "status": "ok",
          "timestamp": 1710769700475,
          "user_tz": -330,
          "elapsed": 15,
          "user": {
            "displayName": "",
            "userId": ""
          }
        }
      },
      "id": "8iAx52TnwqxF",
      "execution_count": 101,
      "outputs": []
    },
    {
      "cell_type": "markdown",
      "source": [
        "#download_files_from_bucket_link"
      ],
      "metadata": {
        "id": "J5wzbP36Tlan"
      },
      "id": "J5wzbP36Tlan"
    },
    {
      "cell_type": "code",
      "source": [
        "#delete_folder('demo2')"
      ],
      "metadata": {
        "id": "SdaTSYFSaef5",
        "executionInfo": {
          "status": "ok",
          "timestamp": 1710769700476,
          "user_tz": -330,
          "elapsed": 15,
          "user": {
            "displayName": "",
            "userId": ""
          }
        }
      },
      "id": "SdaTSYFSaef5",
      "execution_count": 102,
      "outputs": []
    },
    {
      "cell_type": "markdown",
      "source": [
        "#Download data example\n"
      ],
      "metadata": {
        "id": "kFhbvUPMz7gC"
      },
      "id": "kFhbvUPMz7gC"
    },
    {
      "cell_type": "code",
      "source": [
        "\n",
        "# bucket_link = \"hackathontestdata2024/\"\n",
        "# destination_folder = \"demo2\"\n",
        "\n",
        "# parts = bucket_link.strip('/').split('/')\n",
        "# first_variable = parts[0]\n",
        "# other_words = '/'.join(parts[1:])\n",
        "\n",
        "\n",
        "# delete_folder(destination_folder)\n",
        "# download_bucket_files(first_variable, other_words, destination_folder)"
      ],
      "metadata": {
        "id": "ovdqbxtHTlE8",
        "executionInfo": {
          "status": "ok",
          "timestamp": 1710769700476,
          "user_tz": -330,
          "elapsed": 15,
          "user": {
            "displayName": "",
            "userId": ""
          }
        }
      },
      "id": "ovdqbxtHTlE8",
      "execution_count": 103,
      "outputs": []
    },
    {
      "cell_type": "code",
      "source": [
        "def extract_bucket_name(url):\n",
        "    # Split the URL by '/'\n",
        "    parts = url.split('/')\n",
        "\n",
        "    # Find the index of 'browser' segment\n",
        "    browser_index = parts.index('browser')\n",
        "\n",
        "    # Extract the bucket name and folder path\n",
        "    bucket_name = parts[browser_index + 1]\n",
        "    folder_path = '/'.join(parts[browser_index + 2:])\n",
        "\n",
        "    return f\"{bucket_name}/{folder_path}\"\n",
        "\n",
        "\n",
        "# bucket_name = extract_bucket_name(\"https://console.cloud.google.com/storage/browser/hackathontestdata2024\")\n",
        "# print(\"Bucket Name:\", bucket_name)"
      ],
      "metadata": {
        "id": "N2CSyUOZbIK6",
        "executionInfo": {
          "status": "ok",
          "timestamp": 1710769700476,
          "user_tz": -330,
          "elapsed": 15,
          "user": {
            "displayName": "",
            "userId": ""
          }
        }
      },
      "id": "N2CSyUOZbIK6",
      "execution_count": 104,
      "outputs": []
    },
    {
      "cell_type": "markdown",
      "source": [
        "#adding Flask API"
      ],
      "metadata": {
        "id": "JD1vg2AhF87i"
      },
      "id": "JD1vg2AhF87i"
    },
    {
      "cell_type": "code",
      "source": [
        "!pip install pyngrok"
      ],
      "metadata": {
        "id": "aBWwQC4GUAEV",
        "colab": {
          "base_uri": "https://localhost:8080/"
        },
        "executionInfo": {
          "status": "ok",
          "timestamp": 1710769707366,
          "user_tz": -330,
          "elapsed": 6904,
          "user": {
            "displayName": "",
            "userId": ""
          }
        },
        "outputId": "3d220f2b-5092-4cd3-d2e7-03cfe93fba50"
      },
      "id": "aBWwQC4GUAEV",
      "execution_count": 105,
      "outputs": [
        {
          "output_type": "stream",
          "name": "stdout",
          "text": [
            "Requirement already satisfied: pyngrok in /usr/local/lib/python3.10/dist-packages (7.1.5)\n",
            "Requirement already satisfied: PyYAML>=5.1 in /usr/local/lib/python3.10/dist-packages (from pyngrok) (6.0.1)\n"
          ]
        }
      ]
    },
    {
      "cell_type": "code",
      "source": [
        "from flask import Flask\n",
        "from flask import redirect, url_for, request\n",
        "from pyngrok import ngrok\n",
        "\n",
        "port_no = 5000\n",
        "\n",
        "app = Flask(__name__)\n",
        "ngrok.set_auth_token(\"2doQclucgVWyOkPuodbpl28hfCd_5yVcWjSuiL461kLtfYYSa\")\n",
        "public_url =  ngrok.connect(port_no).public_url\n",
        "\n",
        "\n",
        "@app.route(\"/\")\n",
        "def home():\n",
        "    return \"hi everyone\"\n",
        "\n",
        "# @app.route('/get_resumes_listxx', methods=['POST', 'GET'])\n",
        "# def my_test_endpoint():\n",
        "#     # input_json = request.get_json(force=True)\n",
        "#     if request.method == 'POST':\n",
        "#         if request.is_json:\n",
        "#             data = request.get_json()\n",
        "#             data['city'] = 'Bangalore'\n",
        "#             data['state'] = 'Karnataka'\n",
        "#             data['country'] = 'India'\n",
        "#             return data\n",
        "\n",
        "\n",
        "@app.route('/get_resumes_list', methods=['POST'])\n",
        "def my_test_endpoint():\n",
        "    if request.method == 'POST':\n",
        "        if request.is_json:\n",
        "            data = request.get_json()\n",
        "            # data['city'] = 'Bangalore'\n",
        "            # data['state'] = 'Karnataka'\n",
        "            # data['country'] = 'India'\n",
        "            # return data\n",
        "            context_str=data['context']\n",
        "            category_str=data['category']\n",
        "            threshold_str=data['threshold']\n",
        "            noOfMatches_str=data['noOfMatches']\n",
        "            inputPath_str=data['inputPath']\n",
        "\n",
        "            # data['hello']='not so hello'\n",
        "            # return data\n",
        "\n",
        "            response_data = {}\n",
        "\n",
        "            # take job desc from API call and write in file\n",
        "            file_name = \"job_desc.txt\"\n",
        "            check_and_create_file(file_name, ''+context_str)\n",
        "\n",
        "            #take input path url from API call and download all files inside the folder\n",
        "            bucket_path = extract_bucket_name(inputPath_str)\n",
        "            destination_folder = \"resume_folder\"\n",
        "            delete_folder(destination_folder)\n",
        "            check_and_create_folder(destination_folder)\n",
        "\n",
        "            parts = bucket_path.strip('/').split('/')\n",
        "            first_variable = parts[0]\n",
        "            other_words = '/'.join(parts[1:])\n",
        "            download_bucket_files2(first_variable, other_words, destination_folder)\n",
        "\n",
        "\n",
        "            #now searching for resumes\n",
        "            directory = destination_folder\n",
        "            sorted_files_scores = process_files_in_directory(directory, (int(noOfMatches_str)))\n",
        "            # print(sorted_files_scores)\n",
        "\n",
        "            response_data['results']=sorted_files_scores\n",
        "            # return response_data\n",
        "\n",
        "            total_score = 0\n",
        "            max_value=0\n",
        "            for item in sorted_files_scores:\n",
        "                total_score += item['score']\n",
        "                max_value=max(max_value, item['score'])\n",
        "\n",
        "            # confidenceScore = ((int(len(response_data['results'])))/(int(noOfMatches_str)))*((total_score)/(int(len(sorted_files_scores))))\n",
        "            confidenceScore = max_value\n",
        "            confidenceScore=round((confidenceScore), 2)\n",
        "            response_data[\"metadata\"] = {\"confidenceScore\": confidenceScore}\n",
        "            response_data[\"count\"]=len(sorted_files_scores)\n",
        "            response_data[\"status\"]='success'\n",
        "\n",
        "            return response_data\n",
        "\n",
        "\n",
        "\n",
        "print(f\"To acces the Gloable link please click {public_url}\")\n",
        "\n",
        "app.run(port=port_no)"
      ],
      "metadata": {
        "id": "NwN22ydgGCnK",
        "colab": {
          "base_uri": "https://localhost:8080/"
        },
        "outputId": "7af3d2b0-5eb1-4c19-e6f6-785c3a8066b6"
      },
      "id": "NwN22ydgGCnK",
      "execution_count": null,
      "outputs": [
        {
          "output_type": "stream",
          "name": "stdout",
          "text": [
            "To acces the Gloable link please click https://c8de-34-70-189-202.ngrok-free.app\n",
            " * Serving Flask app '__main__'\n",
            " * Debug mode: off\n"
          ]
        },
        {
          "output_type": "stream",
          "name": "stderr",
          "text": [
            "INFO:werkzeug:\u001b[31m\u001b[1mWARNING: This is a development server. Do not use it in a production deployment. Use a production WSGI server instead.\u001b[0m\n",
            " * Running on http://127.0.0.1:5000\n",
            "INFO:werkzeug:\u001b[33mPress CTRL+C to quit\u001b[0m\n"
          ]
        },
        {
          "output_type": "stream",
          "name": "stdout",
          "text": [
            "File 'job_desc.txt' exists and has been deleted.\n",
            "File 'job_desc.txt' has been created.\n",
            "Folder 'resume_folder' deleted successfully.\n",
            "File 'resume_folder/10001727.pdf' downloaded from folder '' in bucket 'hackathontestdata2024'\n",
            "File 'resume_folder/10005171.pdf' downloaded from folder '' in bucket 'hackathontestdata2024'\n",
            "File 'resume_folder/10030015.pdf' downloaded from folder '' in bucket 'hackathontestdata2024'\n",
            "File 'resume_folder/10041713.pdf' downloaded from folder '' in bucket 'hackathontestdata2024'\n",
            "File 'resume_folder/10062724.pdf' downloaded from folder '' in bucket 'hackathontestdata2024'\n",
            "File 'resume_folder/10070224.pdf' downloaded from folder '' in bucket 'hackathontestdata2024'\n",
            "File 'resume_folder/3547447.pdf' downloaded from folder '' in bucket 'hackathontestdata2024'\n"
          ]
        },
        {
          "output_type": "stream",
          "name": "stderr",
          "text": [
            "INFO:werkzeug:127.0.0.1 - - [18/Mar/2024 13:49:00] \"POST /get_resumes_list HTTP/1.1\" 200 -\n"
          ]
        }
      ]
    },
    {
      "cell_type": "code",
      "source": [],
      "metadata": {
        "id": "gYuH5vcvGZUn"
      },
      "id": "gYuH5vcvGZUn",
      "execution_count": null,
      "outputs": []
    }
  ],
  "metadata": {
    "kernelspec": {
      "display_name": "Python 3",
      "language": "python",
      "name": "python3"
    },
    "language_info": {
      "codemirror_mode": {
        "name": "ipython",
        "version": 3
      },
      "file_extension": ".py",
      "mimetype": "text/x-python",
      "name": "python",
      "nbconvert_exporter": "python",
      "pygments_lexer": "ipython3",
      "version": "3.10.10"
    },
    "colab": {
      "provenance": []
    }
  },
  "nbformat": 4,
  "nbformat_minor": 5
}